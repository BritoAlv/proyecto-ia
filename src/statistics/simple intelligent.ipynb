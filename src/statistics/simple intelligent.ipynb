{
 "cells": [
  {
   "cell_type": "markdown",
   "metadata": {},
   "source": [
    "## Cargar los datos"
   ]
  },
  {
   "cell_type": "code",
   "execution_count": 11,
   "metadata": {},
   "outputs": [
    {
     "data": {
      "text/html": [
       "<div>\n",
       "<style scoped>\n",
       "    .dataframe tbody tr th:only-of-type {\n",
       "        vertical-align: middle;\n",
       "    }\n",
       "\n",
       "    .dataframe tbody tr th {\n",
       "        vertical-align: top;\n",
       "    }\n",
       "\n",
       "    .dataframe thead th {\n",
       "        text-align: right;\n",
       "    }\n",
       "</style>\n",
       "<table border=\"1\" class=\"dataframe\">\n",
       "  <thead>\n",
       "    <tr style=\"text-align: right;\">\n",
       "      <th></th>\n",
       "      <th>cars_semaphore_delay</th>\n",
       "      <th>cars_delay</th>\n",
       "      <th>walker_semaphore_delay</th>\n",
       "      <th>walkers_delay</th>\n",
       "    </tr>\n",
       "  </thead>\n",
       "  <tbody>\n",
       "    <tr>\n",
       "      <th>0</th>\n",
       "      <td>1.42</td>\n",
       "      <td>20.12</td>\n",
       "      <td>1.88</td>\n",
       "      <td>9.11</td>\n",
       "    </tr>\n",
       "    <tr>\n",
       "      <th>1</th>\n",
       "      <td>2.54</td>\n",
       "      <td>16.92</td>\n",
       "      <td>2.07</td>\n",
       "      <td>13.26</td>\n",
       "    </tr>\n",
       "    <tr>\n",
       "      <th>2</th>\n",
       "      <td>1.99</td>\n",
       "      <td>17.53</td>\n",
       "      <td>2.44</td>\n",
       "      <td>21.81</td>\n",
       "    </tr>\n",
       "    <tr>\n",
       "      <th>3</th>\n",
       "      <td>2.16</td>\n",
       "      <td>30.95</td>\n",
       "      <td>1.64</td>\n",
       "      <td>9.62</td>\n",
       "    </tr>\n",
       "    <tr>\n",
       "      <th>4</th>\n",
       "      <td>2.06</td>\n",
       "      <td>24.51</td>\n",
       "      <td>2.65</td>\n",
       "      <td>14.68</td>\n",
       "    </tr>\n",
       "    <tr>\n",
       "      <th>...</th>\n",
       "      <td>...</td>\n",
       "      <td>...</td>\n",
       "      <td>...</td>\n",
       "      <td>...</td>\n",
       "    </tr>\n",
       "    <tr>\n",
       "      <th>395</th>\n",
       "      <td>1.00</td>\n",
       "      <td>22.44</td>\n",
       "      <td>1.68</td>\n",
       "      <td>12.20</td>\n",
       "    </tr>\n",
       "    <tr>\n",
       "      <th>396</th>\n",
       "      <td>3.16</td>\n",
       "      <td>30.41</td>\n",
       "      <td>1.20</td>\n",
       "      <td>12.15</td>\n",
       "    </tr>\n",
       "    <tr>\n",
       "      <th>397</th>\n",
       "      <td>1.76</td>\n",
       "      <td>29.05</td>\n",
       "      <td>1.67</td>\n",
       "      <td>20.27</td>\n",
       "    </tr>\n",
       "    <tr>\n",
       "      <th>398</th>\n",
       "      <td>-0.55</td>\n",
       "      <td>27.96</td>\n",
       "      <td>1.93</td>\n",
       "      <td>16.45</td>\n",
       "    </tr>\n",
       "    <tr>\n",
       "      <th>399</th>\n",
       "      <td>3.17</td>\n",
       "      <td>22.91</td>\n",
       "      <td>1.54</td>\n",
       "      <td>19.60</td>\n",
       "    </tr>\n",
       "  </tbody>\n",
       "</table>\n",
       "<p>400 rows × 4 columns</p>\n",
       "</div>"
      ],
      "text/plain": [
       "     cars_semaphore_delay  cars_delay  walker_semaphore_delay  walkers_delay\n",
       "0                    1.42       20.12                    1.88           9.11\n",
       "1                    2.54       16.92                    2.07          13.26\n",
       "2                    1.99       17.53                    2.44          21.81\n",
       "3                    2.16       30.95                    1.64           9.62\n",
       "4                    2.06       24.51                    2.65          14.68\n",
       "..                    ...         ...                     ...            ...\n",
       "395                  1.00       22.44                    1.68          12.20\n",
       "396                  3.16       30.41                    1.20          12.15\n",
       "397                  1.76       29.05                    1.67          20.27\n",
       "398                 -0.55       27.96                    1.93          16.45\n",
       "399                  3.17       22.91                    1.54          19.60\n",
       "\n",
       "[400 rows x 4 columns]"
      ]
     },
     "execution_count": 11,
     "metadata": {},
     "output_type": "execute_result"
    }
   ],
   "source": [
    "import pandas as pd\n",
    "\n",
    "file_path = 'traffic_simulation_data_with.csv' \n",
    "df = pd.read_csv(file_path)\n",
    "\n",
    "\n",
    "df = df.drop(columns=['Unnamed: 0'])\n",
    " \n",
    "# Obtener los nombres de las columnas como un array\n",
    "column_names = df.columns.to_list()\n",
    "df"
   ]
  },
  {
   "cell_type": "code",
   "execution_count": 12,
   "metadata": {},
   "outputs": [
    {
     "data": {
      "text/html": [
       "<div>\n",
       "<style scoped>\n",
       "    .dataframe tbody tr th:only-of-type {\n",
       "        vertical-align: middle;\n",
       "    }\n",
       "\n",
       "    .dataframe tbody tr th {\n",
       "        vertical-align: top;\n",
       "    }\n",
       "\n",
       "    .dataframe thead th {\n",
       "        text-align: right;\n",
       "    }\n",
       "</style>\n",
       "<table border=\"1\" class=\"dataframe\">\n",
       "  <thead>\n",
       "    <tr style=\"text-align: right;\">\n",
       "      <th></th>\n",
       "      <th>cars_semaphore_delay</th>\n",
       "      <th>cars_delay</th>\n",
       "      <th>walker_semaphore_delay</th>\n",
       "      <th>walkers_delay</th>\n",
       "    </tr>\n",
       "  </thead>\n",
       "  <tbody>\n",
       "    <tr>\n",
       "      <th>count</th>\n",
       "      <td>400.000</td>\n",
       "      <td>400.000</td>\n",
       "      <td>400.000</td>\n",
       "      <td>400.000</td>\n",
       "    </tr>\n",
       "    <tr>\n",
       "      <th>mean</th>\n",
       "      <td>1.964</td>\n",
       "      <td>24.975</td>\n",
       "      <td>1.994</td>\n",
       "      <td>15.043</td>\n",
       "    </tr>\n",
       "    <tr>\n",
       "      <th>std</th>\n",
       "      <td>1.031</td>\n",
       "      <td>3.979</td>\n",
       "      <td>0.419</td>\n",
       "      <td>4.125</td>\n",
       "    </tr>\n",
       "    <tr>\n",
       "      <th>min</th>\n",
       "      <td>-1.360</td>\n",
       "      <td>13.270</td>\n",
       "      <td>0.960</td>\n",
       "      <td>2.530</td>\n",
       "    </tr>\n",
       "    <tr>\n",
       "      <th>25%</th>\n",
       "      <td>1.298</td>\n",
       "      <td>22.330</td>\n",
       "      <td>1.700</td>\n",
       "      <td>12.480</td>\n",
       "    </tr>\n",
       "    <tr>\n",
       "      <th>50%</th>\n",
       "      <td>1.900</td>\n",
       "      <td>25.135</td>\n",
       "      <td>1.980</td>\n",
       "      <td>15.120</td>\n",
       "    </tr>\n",
       "    <tr>\n",
       "      <th>75%</th>\n",
       "      <td>2.643</td>\n",
       "      <td>27.385</td>\n",
       "      <td>2.260</td>\n",
       "      <td>17.582</td>\n",
       "    </tr>\n",
       "    <tr>\n",
       "      <th>max</th>\n",
       "      <td>6.210</td>\n",
       "      <td>36.350</td>\n",
       "      <td>3.350</td>\n",
       "      <td>27.160</td>\n",
       "    </tr>\n",
       "  </tbody>\n",
       "</table>\n",
       "</div>"
      ],
      "text/plain": [
       "       cars_semaphore_delay  cars_delay  walker_semaphore_delay  walkers_delay\n",
       "count               400.000     400.000                 400.000        400.000\n",
       "mean                  1.964      24.975                   1.994         15.043\n",
       "std                   1.031       3.979                   0.419          4.125\n",
       "min                  -1.360      13.270                   0.960          2.530\n",
       "25%                   1.298      22.330                   1.700         12.480\n",
       "50%                   1.900      25.135                   1.980         15.120\n",
       "75%                   2.643      27.385                   2.260         17.582\n",
       "max                   6.210      36.350                   3.350         27.160"
      ]
     },
     "execution_count": 12,
     "metadata": {},
     "output_type": "execute_result"
    }
   ],
   "source": [
    "import pandas as pd\n",
    "\n",
    "pd.set_option('display.float_format', '{:.3f}'.format)\n",
    "df.describe()"
   ]
  },
  {
   "cell_type": "markdown",
   "metadata": {},
   "source": []
  },
  {
   "cell_type": "markdown",
   "metadata": {},
   "source": [
    "## Mostrar histograma con los datos"
   ]
  },
  {
   "cell_type": "code",
   "execution_count": 13,
   "metadata": {},
   "outputs": [
    {
     "data": {
      "image/png": "[encoded data removed]",
      "text/plain": [
       "<Figure size 720x1728 with 4 Axes>"
      ]
     },
     "metadata": {
      "needs_background": "light"
     },
     "output_type": "display_data"
    }
   ],
   "source": [
    "import matplotlib.pyplot as plt\n",
    "import numpy as np\n",
    "import pandas as pd\n",
    "\n",
    "# Assuming you have your DataFrame loaded as 'df'\n",
    "\n",
    "fig, axes = plt.subplots(len(df.columns), 1, figsize=(10, 6*len(df.columns)))\n",
    "\n",
    "for i, column in enumerate(df.columns):\n",
    "    values = df[column].values.flatten()  # Flatten the array\n",
    "    n, bins, patches = axes[i].hist(values, bins=np.arange(min(values), max(values)+1, 1), edgecolor='black')\n",
    "    \n",
    "    # Add a kernel density estimation\n",
    "    density = np.histogram(values, bins=bins, density=True)[0]\n",
    "    axes[i].plot((bins[:-1] + bins[1:]) / 2, density, 'r-', linewidth=2)\n",
    "    \n",
    "    axes[i].set_title(f'Distribución de {column}')\n",
    "    axes[i].set_xlabel(column)\n",
    "    axes[i].set_ylabel('Frecuencia')\n",
    "\n",
    "plt.tight_layout()\n",
    "plt.show()\n",
    "\n",
    "# If you want to save the plots as separate figures\n",
    "for i, column in enumerate(df.columns):\n",
    "    fig, ax = plt.subplots(figsize=(10, 6))\n",
    "    values = df[column].values.flatten()\n",
    "    n, bins, patches = ax.hist(values, bins=np.arange(min(values), max(values)+1, 1), edgecolor='black')\n",
    "    \n",
    "    # Add a kernel density estimation\n",
    "    density = np.histogram(values, bins=bins, density=True)[0]\n",
    "    ax.plot((bins[:-1] + bins[1:]) / 2, density, 'r-', linewidth=2)\n",
    "    \n",
    "    ax.set_title(f'Distribución de {column}')\n",
    "    ax.set_xlabel(column)\n",
    "    ax.set_ylabel('Frecuencia')\n",
    "    \n",
    "    # plt.savefig(f'{column}_distribution.png')\n",
    "    plt.close(fig)"
   ]
  },
  {
   "cell_type": "markdown",
   "metadata": {},
   "source": [
    "Como podemos apreciar, ninguna de nuestras variables tiene un comportamiento normal"
   ]
  },
  {
   "cell_type": "markdown",
   "metadata": {},
   "source": [
    "## Análisis de normalidad"
   ]
  },
  {
   "cell_type": "code",
   "execution_count": 14,
   "metadata": {},
   "outputs": [
    {
     "name": "stdout",
     "output_type": "stream",
     "text": [
      "El kurtosis de cars_semaphore_delay es 0.8831485726401289\n",
      "La Asimetría de cars_semaphore_delay es 0.16662705841870676\n",
      "El kurtosis de cars_delay es 0.16352694365346077\n",
      "La Asimetría de cars_delay es 0.08954672781133943\n",
      "El kurtosis de walker_semaphore_delay es 0.03772899320242962\n",
      "La Asimetría de walker_semaphore_delay es 0.2478077531836169\n",
      "El kurtosis de walkers_delay es 0.20886375598587126\n",
      "La Asimetría de walkers_delay es 0.05321183644031733\n"
     ]
    }
   ],
   "source": [
    "for x in df.columns:\n",
    "    print(f\"El kurtosis de {x} es {df[x].kurtosis()}\")\n",
    "    print(f\"La Asimetría de {x} es {df[x].skew()}\")"
   ]
  },
  {
   "cell_type": "markdown",
   "metadata": {},
   "source": [
    "### Test de Normalidad"
   ]
  },
  {
   "cell_type": "code",
   "execution_count": 15,
   "metadata": {},
   "outputs": [
    {
     "name": "stdout",
     "output_type": "stream",
     "text": [
      "cars_semaphore_delay\n",
      "D = 0.6776903456440608\n",
      "p-value = 5.209801239592065e-46\n",
      "\n",
      "cars_delay\n",
      "D = 1.0\n",
      "p-value = 0.0\n",
      "\n",
      "walker_semaphore_delay\n",
      "D = 0.874902082204761\n",
      "p-value = 1.266483776729844e-90\n",
      "\n",
      "walkers_delay\n",
      "D = 0.9986051127645078\n",
      "p-value = 5.687743530918396e-286\n",
      "\n"
     ]
    }
   ],
   "source": [
    "from scipy.stats import kstest, shapiro\n",
    "\n",
    "\n",
    "for x in df.columns:\n",
    "    test = df[x].sample(100)\n",
    "    D, p_value = kstest(test, 'norm')\n",
    "    print(x)    \n",
    "    print(f\"D = {D}\")\n",
    "    print(f\"p-value = {p_value}\")\n",
    "    print()"
   ]
  },
  {
   "cell_type": "markdown",
   "metadata": {},
   "source": [
    "## Matriz de Correlación"
   ]
  },
  {
   "cell_type": "markdown",
   "metadata": {},
   "source": [
    "Mediante la matriz de correlación veremos la relación entre las variables y nos dará una idea de las variables a seleccionar"
   ]
  },
  {
   "cell_type": "code",
   "execution_count": 16,
   "metadata": {},
   "outputs": [
    {
     "data": {
      "image/png": "[encoded data removed]",
      "text/plain": [
       "<Figure size 864x504 with 2 Axes>"
      ]
     },
     "metadata": {
      "needs_background": "light"
     },
     "output_type": "display_data"
    }
   ],
   "source": [
    "import seaborn as sns\n",
    "import matplotlib.pyplot as plt\n",
    "\n",
    "correlation_matrix = df.corr()\n",
    "# print(correlation_matrix)\n",
    "\n",
    "fig, ax = plt.subplots(figsize=(12, 7)) \n",
    "sns.heatmap(correlation_matrix, annot=True, cmap='coolwarm')\n",
    "plt.show()\n"
   ]
  }
 ],
 "metadata": {
  "kernelspec": {
   "display_name": "Python 3",
   "language": "python",
   "name": "python3"
  },
  "language_info": {
   "codemirror_mode": {
    "name": "ipython",
    "version": 3
   },
   "file_extension": ".py",
   "mimetype": "text/x-python",
   "name": "python",
   "nbconvert_exporter": "python",
   "pygments_lexer": "ipython3",
   "version": "3.8.8"
  }
 },
 "nbformat": 4,
 "nbformat_minor": 2
}
