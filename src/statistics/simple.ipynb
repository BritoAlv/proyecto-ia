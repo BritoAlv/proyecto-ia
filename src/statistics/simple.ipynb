{
 "cells": [
  {
   "cell_type": "markdown",
   "metadata": {},
   "source": [
    "## Cargar los datos"
   ]
  },
  {
   "cell_type": "code",
   "execution_count": 11,
   "metadata": {},
   "outputs": [
    {
     "data": {
      "text/html": [
       "<div>\n",
       "<style scoped>\n",
       "    .dataframe tbody tr th:only-of-type {\n",
       "        vertical-align: middle;\n",
       "    }\n",
       "\n",
       "    .dataframe tbody tr th {\n",
       "        vertical-align: top;\n",
       "    }\n",
       "\n",
       "    .dataframe thead th {\n",
       "        text-align: right;\n",
       "    }\n",
       "</style>\n",
       "<table border=\"1\" class=\"dataframe\">\n",
       "  <thead>\n",
       "    <tr style=\"text-align: right;\">\n",
       "      <th></th>\n",
       "      <th>cars_semaphore_delay</th>\n",
       "      <th>cars_delay</th>\n",
       "      <th>walker_semaphore_delay</th>\n",
       "      <th>walkers_delay</th>\n",
       "    </tr>\n",
       "  </thead>\n",
       "  <tbody>\n",
       "    <tr>\n",
       "      <th>0</th>\n",
       "      <td>4.030</td>\n",
       "      <td>35.840</td>\n",
       "      <td>2.860</td>\n",
       "      <td>29.570</td>\n",
       "    </tr>\n",
       "    <tr>\n",
       "      <th>1</th>\n",
       "      <td>2.680</td>\n",
       "      <td>24.650</td>\n",
       "      <td>2.120</td>\n",
       "      <td>21.860</td>\n",
       "    </tr>\n",
       "    <tr>\n",
       "      <th>2</th>\n",
       "      <td>3.890</td>\n",
       "      <td>20.670</td>\n",
       "      <td>0.960</td>\n",
       "      <td>25.770</td>\n",
       "    </tr>\n",
       "    <tr>\n",
       "      <th>3</th>\n",
       "      <td>4.770</td>\n",
       "      <td>24.390</td>\n",
       "      <td>3.030</td>\n",
       "      <td>13.760</td>\n",
       "    </tr>\n",
       "    <tr>\n",
       "      <th>4</th>\n",
       "      <td>1.590</td>\n",
       "      <td>22.940</td>\n",
       "      <td>3.330</td>\n",
       "      <td>14.790</td>\n",
       "    </tr>\n",
       "    <tr>\n",
       "      <th>...</th>\n",
       "      <td>...</td>\n",
       "      <td>...</td>\n",
       "      <td>...</td>\n",
       "      <td>...</td>\n",
       "    </tr>\n",
       "    <tr>\n",
       "      <th>395</th>\n",
       "      <td>2.410</td>\n",
       "      <td>31.810</td>\n",
       "      <td>3.230</td>\n",
       "      <td>23.760</td>\n",
       "    </tr>\n",
       "    <tr>\n",
       "      <th>396</th>\n",
       "      <td>1.070</td>\n",
       "      <td>33.970</td>\n",
       "      <td>0.630</td>\n",
       "      <td>15.760</td>\n",
       "    </tr>\n",
       "    <tr>\n",
       "      <th>397</th>\n",
       "      <td>5.050</td>\n",
       "      <td>24.900</td>\n",
       "      <td>4.100</td>\n",
       "      <td>15.580</td>\n",
       "    </tr>\n",
       "    <tr>\n",
       "      <th>398</th>\n",
       "      <td>1.600</td>\n",
       "      <td>28.550</td>\n",
       "      <td>3.120</td>\n",
       "      <td>7.730</td>\n",
       "    </tr>\n",
       "    <tr>\n",
       "      <th>399</th>\n",
       "      <td>2.780</td>\n",
       "      <td>22.810</td>\n",
       "      <td>2.780</td>\n",
       "      <td>22.650</td>\n",
       "    </tr>\n",
       "  </tbody>\n",
       "</table>\n",
       "<p>400 rows × 4 columns</p>\n",
       "</div>"
      ],
      "text/plain": [
       "     cars_semaphore_delay  cars_delay  walker_semaphore_delay  walkers_delay\n",
       "0                   4.030      35.840                   2.860         29.570\n",
       "1                   2.680      24.650                   2.120         21.860\n",
       "2                   3.890      20.670                   0.960         25.770\n",
       "3                   4.770      24.390                   3.030         13.760\n",
       "4                   1.590      22.940                   3.330         14.790\n",
       "..                    ...         ...                     ...            ...\n",
       "395                 2.410      31.810                   3.230         23.760\n",
       "396                 1.070      33.970                   0.630         15.760\n",
       "397                 5.050      24.900                   4.100         15.580\n",
       "398                 1.600      28.550                   3.120          7.730\n",
       "399                 2.780      22.810                   2.780         22.650\n",
       "\n",
       "[400 rows x 4 columns]"
      ]
     },
     "execution_count": 11,
     "metadata": {},
     "output_type": "execute_result"
    }
   ],
   "source": [
    "import pandas as pd\n",
    "\n",
    "file_path = 'traffic_simulation_data.csv' \n",
    "df = pd.read_csv(file_path)\n",
    "\n",
    "\n",
    "df = df.drop(columns=['Unnamed: 0'])\n",
    " \n",
    "# Obtener los nombres de las columnas como un array\n",
    "column_names = df.columns.to_list()\n",
    "df"
   ]
  },
  {
   "cell_type": "code",
   "execution_count": 12,
   "metadata": {},
   "outputs": [
    {
     "data": {
      "text/html": [
       "<div>\n",
       "<style scoped>\n",
       "    .dataframe tbody tr th:only-of-type {\n",
       "        vertical-align: middle;\n",
       "    }\n",
       "\n",
       "    .dataframe tbody tr th {\n",
       "        vertical-align: top;\n",
       "    }\n",
       "\n",
       "    .dataframe thead th {\n",
       "        text-align: right;\n",
       "    }\n",
       "</style>\n",
       "<table border=\"1\" class=\"dataframe\">\n",
       "  <thead>\n",
       "    <tr style=\"text-align: right;\">\n",
       "      <th></th>\n",
       "      <th>cars_semaphore_delay</th>\n",
       "      <th>cars_delay</th>\n",
       "      <th>walker_semaphore_delay</th>\n",
       "      <th>walkers_delay</th>\n",
       "    </tr>\n",
       "  </thead>\n",
       "  <tbody>\n",
       "    <tr>\n",
       "      <th>count</th>\n",
       "      <td>400.000</td>\n",
       "      <td>400.000</td>\n",
       "      <td>400.000</td>\n",
       "      <td>400.000</td>\n",
       "    </tr>\n",
       "    <tr>\n",
       "      <th>mean</th>\n",
       "      <td>3.039</td>\n",
       "      <td>29.795</td>\n",
       "      <td>2.016</td>\n",
       "      <td>19.993</td>\n",
       "    </tr>\n",
       "    <tr>\n",
       "      <th>std</th>\n",
       "      <td>1.035</td>\n",
       "      <td>6.968</td>\n",
       "      <td>1.029</td>\n",
       "      <td>4.958</td>\n",
       "    </tr>\n",
       "    <tr>\n",
       "      <th>min</th>\n",
       "      <td>-0.120</td>\n",
       "      <td>9.310</td>\n",
       "      <td>-1.560</td>\n",
       "      <td>6.700</td>\n",
       "    </tr>\n",
       "    <tr>\n",
       "      <th>25%</th>\n",
       "      <td>2.335</td>\n",
       "      <td>25.098</td>\n",
       "      <td>1.320</td>\n",
       "      <td>16.435</td>\n",
       "    </tr>\n",
       "    <tr>\n",
       "      <th>50%</th>\n",
       "      <td>3.025</td>\n",
       "      <td>29.550</td>\n",
       "      <td>2.035</td>\n",
       "      <td>19.925</td>\n",
       "    </tr>\n",
       "    <tr>\n",
       "      <th>75%</th>\n",
       "      <td>3.730</td>\n",
       "      <td>34.612</td>\n",
       "      <td>2.695</td>\n",
       "      <td>23.492</td>\n",
       "    </tr>\n",
       "    <tr>\n",
       "      <th>max</th>\n",
       "      <td>6.470</td>\n",
       "      <td>49.150</td>\n",
       "      <td>4.830</td>\n",
       "      <td>38.480</td>\n",
       "    </tr>\n",
       "  </tbody>\n",
       "</table>\n",
       "</div>"
      ],
      "text/plain": [
       "       cars_semaphore_delay  cars_delay  walker_semaphore_delay  walkers_delay\n",
       "count               400.000     400.000                 400.000        400.000\n",
       "mean                  3.039      29.795                   2.016         19.993\n",
       "std                   1.035       6.968                   1.029          4.958\n",
       "min                  -0.120       9.310                  -1.560          6.700\n",
       "25%                   2.335      25.098                   1.320         16.435\n",
       "50%                   3.025      29.550                   2.035         19.925\n",
       "75%                   3.730      34.612                   2.695         23.492\n",
       "max                   6.470      49.150                   4.830         38.480"
      ]
     },
     "execution_count": 12,
     "metadata": {},
     "output_type": "execute_result"
    }
   ],
   "source": [
    "import pandas as pd\n",
    "\n",
    "pd.set_option('display.float_format', '{:.3f}'.format)\n",
    "df.describe()"
   ]
  },
  {
   "cell_type": "markdown",
   "metadata": {},
   "source": []
  },
  {
   "cell_type": "markdown",
   "metadata": {},
   "source": [
    "## Mostrar histograma con los datos"
   ]
  },
  {
   "cell_type": "code",
   "execution_count": 13,
   "metadata": {},
   "outputs": [
    {
     "data": {
      "image/png": "[encoded data removed]",
      "text/plain": [
       "<Figure size 720x1728 with 4 Axes>"
      ]
     },
     "metadata": {
      "needs_background": "light"
     },
     "output_type": "display_data"
    }
   ],
   "source": [
    "import matplotlib.pyplot as plt\n",
    "import numpy as np\n",
    "import pandas as pd\n",
    "\n",
    "# Assuming you have your DataFrame loaded as 'df'\n",
    "\n",
    "fig, axes = plt.subplots(len(df.columns), 1, figsize=(10, 6*len(df.columns)))\n",
    "\n",
    "for i, column in enumerate(df.columns):\n",
    "    values = df[column].values.flatten()  # Flatten the array\n",
    "    n, bins, patches = axes[i].hist(values, bins=np.arange(min(values), max(values)+1, 1), edgecolor='black')\n",
    "    \n",
    "    # Add a kernel density estimation\n",
    "    density = np.histogram(values, bins=bins, density=True)[0]\n",
    "    axes[i].plot((bins[:-1] + bins[1:]) / 2, density, 'r-', linewidth=2)\n",
    "    \n",
    "    axes[i].set_title(f'Distribución de {column}')\n",
    "    axes[i].set_xlabel(column)\n",
    "    axes[i].set_ylabel('Frecuencia')\n",
    "\n",
    "plt.tight_layout()\n",
    "plt.show()\n",
    "\n",
    "# If you want to save the plots as separate figures\n",
    "for i, column in enumerate(df.columns):\n",
    "    fig, ax = plt.subplots(figsize=(10, 6))\n",
    "    values = df[column].values.flatten()\n",
    "    n, bins, patches = ax.hist(values, bins=np.arange(min(values), max(values)+1, 1), edgecolor='black')\n",
    "    \n",
    "    # Add a kernel density estimation\n",
    "    density = np.histogram(values, bins=bins, density=True)[0]\n",
    "    ax.plot((bins[:-1] + bins[1:]) / 2, density, 'r-', linewidth=2)\n",
    "    \n",
    "    ax.set_title(f'Distribución de {column}')\n",
    "    ax.set_xlabel(column)\n",
    "    ax.set_ylabel('Frecuencia')\n",
    "    \n",
    "    # plt.savefig(f'{column}_distribution.png')\n",
    "    plt.close(fig)"
   ]
  },
  {
   "cell_type": "markdown",
   "metadata": {},
   "source": [
    "Como podemos apreciar, ninguna de nuestras variables tiene un comportamiento normal"
   ]
  },
  {
   "cell_type": "markdown",
   "metadata": {},
   "source": [
    "## Análisis de normalidad"
   ]
  },
  {
   "cell_type": "code",
   "execution_count": 14,
   "metadata": {},
   "outputs": [
    {
     "name": "stdout",
     "output_type": "stream",
     "text": [
      "El kurtosis de cars_semaphore_delay es 0.1860398245374748\n",
      "La Asimetría de cars_semaphore_delay es 0.1516149309242259\n",
      "El kurtosis de cars_delay es -0.11555460220060843\n",
      "La Asimetría de cars_delay es 0.008772984186610747\n",
      "El kurtosis de walker_semaphore_delay es 0.3728978719914666\n",
      "La Asimetría de walker_semaphore_delay es -0.17959013325158565\n",
      "El kurtosis de walkers_delay es -0.011657480578791013\n",
      "La Asimetría de walkers_delay es 0.0896822569436807\n"
     ]
    }
   ],
   "source": [
    "for x in df.columns:\n",
    "    print(f\"El kurtosis de {x} es {df[x].kurtosis()}\")\n",
    "    print(f\"La Asimetría de {x} es {df[x].skew()}\")"
   ]
  },
  {
   "cell_type": "markdown",
   "metadata": {},
   "source": [
    "### Test de Normalidad"
   ]
  },
  {
   "cell_type": "code",
   "execution_count": 15,
   "metadata": {},
   "outputs": [
    {
     "name": "stdout",
     "output_type": "stream",
     "text": [
      "cars_semaphore_delay\n",
      "D = 0.87352134213628\n",
      "p-value = 3.8513688968797334e-90\n",
      "\n",
      "cars_delay\n",
      "D = 1.0\n",
      "p-value = 0.0\n",
      "\n",
      "walker_semaphore_delay\n",
      "D = 0.7232670569628273\n",
      "p-value = 1.1046792826126765e-53\n",
      "\n",
      "walkers_delay\n",
      "D = 0.9999999999999947\n",
      "p-value = 0.0\n",
      "\n"
     ]
    }
   ],
   "source": [
    "from scipy.stats import kstest, shapiro\n",
    "\n",
    "\n",
    "for x in df.columns:\n",
    "    test = df[x].sample(100)\n",
    "    D, p_value = kstest(test, 'norm')\n",
    "    print(x)    \n",
    "    print(f\"D = {D}\")\n",
    "    print(f\"p-value = {p_value}\")\n",
    "    print()"
   ]
  },
  {
   "cell_type": "markdown",
   "metadata": {},
   "source": [
    "## Matriz de Correlación"
   ]
  },
  {
   "cell_type": "markdown",
   "metadata": {},
   "source": [
    "Mediante la matriz de correlación veremos la relación entre las variables y nos dará una idea de las variables a seleccionar"
   ]
  },
  {
   "cell_type": "code",
   "execution_count": 16,
   "metadata": {},
   "outputs": [
    {
     "data": {
      "image/png": "[encoded data removed]",
      "text/plain": [
       "<Figure size 864x504 with 2 Axes>"
      ]
     },
     "metadata": {
      "needs_background": "light"
     },
     "output_type": "display_data"
    }
   ],
   "source": [
    "import seaborn as sns\n",
    "import matplotlib.pyplot as plt\n",
    "\n",
    "correlation_matrix = df.corr()\n",
    "# print(correlation_matrix)\n",
    "\n",
    "fig, ax = plt.subplots(figsize=(12, 7)) \n",
    "sns.heatmap(correlation_matrix, annot=True, cmap='coolwarm')\n",
    "plt.show()\n"
   ]
  }
 ],
 "metadata": {
  "kernelspec": {
   "display_name": "Python 3",
   "language": "python",
   "name": "python3"
  },
  "language_info": {
   "codemirror_mode": {
    "name": "ipython",
    "version": 3
   },
   "file_extension": ".py",
   "mimetype": "text/x-python",
   "name": "python",
   "nbconvert_exporter": "python",
   "pygments_lexer": "ipython3",
   "version": "3.8.8"
  }
 },
 "nbformat": 4,
 "nbformat_minor": 2
}
